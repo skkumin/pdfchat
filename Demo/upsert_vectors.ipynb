{
 "cells": [
  {
   "cell_type": "code",
   "execution_count": null,
   "metadata": {},
   "outputs": [],
   "source": [
    "import os\n",
    "import sys\n",
    "import logging\n",
    "import openai\n",
    "from dotenv import load_dotenv\n",
    "from llama_index import (\n",
    "    VectorStoreIndex,\n",
    "    LLMPredictor,\n",
    "    ServiceContext,\n",
    "    StorageContext,\n",
    "    PromptHelper,\n",
    ")\n",
    "from langchain.llms.openai import OpenAIChat\n",
    "from langchain import OpenAI\n",
    "\n",
    "load_dotenv()\n",
    "\n",
    "# api key\n",
    "openai.api_key = os.getenv(\"OPENAI_API_KEY\")\n",
    "\n",
    "# log\n",
    "logging.getLogger().addHandler(logging.StreamHandler(stream=sys.stdout))\n",
    "logging.basicConfig(stream=sys.stdout, level=logging.INFO)"
   ]
  },
  {
   "cell_type": "code",
   "execution_count": null,
   "metadata": {},
   "outputs": [],
   "source": [
    "import pinecone\n",
    "from llama_index.vector_stores import PineconeVectorStore\n",
    "\n",
    "# Creating a Pinecone index\n",
    "pinecone_api_key = os.getenv(\"PINECONE_API_KEY\")\n",
    "pinecone_environment = os.getenv(\"PINECONE_ENVIRONMENT\")\n",
    "pinecone.init(api_key=pinecone_api_key, environment=pinecone_environment)\n",
    "pinecone_index = pinecone.Index(os.getenv(\"PINECONE_INDEX\"))\n",
    "pinecone_index.describe_index_stats() #파인콘 index 상태 확인"
   ]
  },
  {
   "cell_type": "code",
   "execution_count": null,
   "metadata": {},
   "outputs": [],
   "source": [
    "file_names = [\n",
    "    file_name\n",
    "    for file_name in os.listdir(\"./pdf\")\n",
    "    if file_name.endswith(\".pdf\")\n",
    "]\n",
    "print(file_names)"
   ]
  },
  {
   "cell_type": "code",
   "execution_count": null,
   "metadata": {},
   "outputs": [],
   "source": [
    "from pathlib import Path\n",
    "from llama_index import download_loader\n",
    "\n",
    "file_names = [\n",
    "    file_name\n",
    "    for file_name in os.listdir(\"./pdf\")\n",
    "    if file_name.endswith(\".pdf\")\n",
    "]\n",
    "\n",
    "PDFReader = download_loader(\"PDFReader\")\n",
    "loader = PDFReader()\n",
    "\n",
    "prod_descs = {}\n",
    "all_docs = []\n",
    "for idx, file_name in enumerate(file_names):\n",
    "    prod_descs[file_name] = loader.load_data(\n",
    "        Path(f\"\"\"C:/Users/mingue/Desktop/Demo_final/pdf/{file_name}\"\"\")\n",
    "    )\n",
    "    all_docs.extend(prod_descs[file_name])"
   ]
  },
  {
   "cell_type": "code",
   "execution_count": null,
   "metadata": {},
   "outputs": [],
   "source": [
    "import tiktoken\n",
    "\n",
    "# construct vector store\n",
    "vector_store = PineconeVectorStore(\n",
    "    pinecone_index=pinecone_index, tokenizer=tiktoken.get_encoding(\"cl100k_base\")\n",
    ")\n",
    "storage_context = StorageContext.from_defaults(\n",
    "    vector_store=vector_store,\n",
    ")\n",
    "service_context = ServiceContext.from_defaults(chunk_overlap=50)\n",
    "index = VectorStoreIndex.from_documents(\n",
    "    documents=all_docs, storage_context=storage_context, service_context=service_context\n",
    ")"
   ]
  },
  {
   "cell_type": "code",
   "execution_count": null,
   "metadata": {},
   "outputs": [],
   "source": [
    "nodes = service_context.node_parser.get_nodes_from_documents(all_docs)"
   ]
  },
  {
   "cell_type": "code",
   "execution_count": null,
   "metadata": {},
   "outputs": [],
   "source": [
    "len(nodes)"
   ]
  },
  {
   "cell_type": "code",
   "execution_count": null,
   "metadata": {},
   "outputs": [],
   "source": [
    "pinecone_index.describe_index_stats()"
   ]
  },
  {
   "attachments": {},
   "cell_type": "markdown",
   "metadata": {},
   "source": [
    "# vector DB에서 meta data filtering으로 vector 불러오기  \n",
    "각 vector의 meta data엔 원본 text, pdf 페이지, pdf 파일 이름, 앞 뒤 노드에 관한 정보가 들어있다.  \n",
    "불러온 벡터를 노드로 만들고 list index tree index 등으로 변환하는 방법이 있을까?"
   ]
  },
  {
   "cell_type": "code",
   "execution_count": 13,
   "metadata": {},
   "outputs": [
    {
     "data": {
      "text/plain": [
       "{'dimension': 1536,\n",
       " 'index_fullness': 0.0,\n",
       " 'namespaces': {},\n",
       " 'total_vector_count': 0}"
      ]
     },
     "execution_count": 13,
     "metadata": {},
     "output_type": "execute_result"
    }
   ],
   "source": [
    "import pinecone\n",
    "from llama_index.vector_stores import PineconeVectorStore\n",
    "\n",
    "# Creating a Pinecone index\n",
    "pinecone_api_key = os.getenv(\"PINECONE_API_KEY\")\n",
    "pinecone_environment = os.getenv(\"PINECONE_ENVIRONMENT\")\n",
    "pinecone.init(api_key=pinecone_api_key, environment=pinecone_environment)\n",
    "pinecone_index = pinecone.Index(os.getenv(\"PINECONE_INDEX\"))\n",
    "pinecone_index.describe_index_stats() #파인콘 index 상태 확인"
   ]
  },
  {
   "cell_type": "code",
   "execution_count": 28,
   "metadata": {},
   "outputs": [],
   "source": [
    "from pathlib import Path\n",
    "from llama_index import download_loader\n",
    "\n",
    "file_names = [\n",
    "    file_name\n",
    "    for file_name in os.listdir(\"./pdf\")\n",
    "    if file_name.endswith(\".pdf\")\n",
    "]\n",
    "\n",
    "PDFReader = download_loader(\"PDFReader\")\n",
    "loader = PDFReader()\n",
    "\n",
    "prod_descs = {}\n",
    "all_docs = []\n",
    "for idx, file_name in enumerate(file_names):\n",
    "    prod_descs[file_name] = loader.load_data(\n",
    "        Path(f\"\"\"C:/Users/mingue/Desktop/Demo_final/pdf/{file_name}\"\"\")\n",
    "    )\n",
    "    all_docs.extend(prod_descs[file_name])"
   ]
  },
  {
   "cell_type": "code",
   "execution_count": 36,
   "metadata": {},
   "outputs": [],
   "source": [
    "nodes = service_context.node_parser.get_nodes_from_documents(all_docs)"
   ]
  },
  {
   "cell_type": "code",
   "execution_count": 35,
   "metadata": {},
   "outputs": [
    {
     "data": {
      "text/plain": [
       "{'dimension': 1536,\n",
       " 'index_fullness': 0.0,\n",
       " 'namespaces': {'': {'vector_count': 266}},\n",
       " 'total_vector_count': 266}"
      ]
     },
     "execution_count": 35,
     "metadata": {},
     "output_type": "execute_result"
    }
   ],
   "source": [
    "pinecone_index.describe_index_stats()"
   ]
  }
 ],
 "metadata": {
  "kernelspec": {
   "display_name": "base",
   "language": "python",
   "name": "python3"
  },
  "language_info": {
   "codemirror_mode": {
    "name": "ipython",
    "version": 3
   },
   "file_extension": ".py",
   "mimetype": "text/x-python",
   "name": "python",
   "nbconvert_exporter": "python",
   "pygments_lexer": "ipython3",
   "version": "3.9.11"
  },
  "orig_nbformat": 4
 },
 "nbformat": 4,
 "nbformat_minor": 2
}
